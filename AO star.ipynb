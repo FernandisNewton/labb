{
 "cells": [
  {
   "cell_type": "code",
   "execution_count": null,
   "id": "07afdaee",
   "metadata": {},
   "outputs": [
    {
     "ename": "",
     "evalue": "",
     "output_type": "error",
     "traceback": [
      "\u001b[1;31mJupyter cannot be started. Error attempting to locate jupyter: Running cells with 'Python 3.9.9 64-bit' requires jupyter and notebook package.\n",
      "Run the following command to install 'jupyter and notebook' into the Python environment. \n",
      "Command: '/opt/homebrew/bin/python3 -m pip install jupyter notebook -U'"
     ]
    }
   ],
   "source": [
    "def aostar(n):\n",
    "    and_nodes=[]\n",
    "    or_nodes=[]\n",
    "    if n in allnodes:\n",
    "        if  'AND' in allnodes[n]:\n",
    "            and_nodes=allnodes[n]['AND']\n",
    "        if 'OR' in allnodes[n]:\n",
    "            or_nodes=allnodes[n]['OR']\n",
    "    else:\n",
    "        return\n",
    "    solvable=False\n",
    "    marked={}\n",
    "    while not solvable:\n",
    "        if len(marked)==len(and_nodes)+len(or_nodes):\n",
    "            min_cost_least,min_cost_group_least=least_cost_group(and_nodes,or_nodes,{})\n",
    "            solvable=True\n",
    "            change_heuristic(n,min_cost_least)\n",
    "            optimal_child_group[n]=min_cost_group_least\n",
    "        min_cost,min_cost_group=least_cost_group(and_nodes,or_nodes,marked)\n",
    "        is_expandabe=False\n",
    "        if len(min_cost_group)>1:\n",
    "            if (min_cost_group[0] in allnodes):\n",
    "                is_expandabe=True\n",
    "                aostar(min_cost_group[0])\n",
    "            if (min_cost_group[1] in allnodes):\n",
    "                is_expandabe=True\n",
    "                aostar(min_cost_group[1])\n",
    "        else:\n",
    "            if(min_cost_group in allnodes):\n",
    "                is_expandabe=True\n",
    "                aostar(min_cost_group)\n",
    "        if is_expandabe:\n",
    "            min_cost_verify,min_cost_group_verify=least_cost_group(and_nodes,or_nodes,{})\n",
    "            if min_cost_group==min_cost_group_verify:\n",
    "                solvable=True\n",
    "                change_heuristic(n,min_cost_verify)\n",
    "                optimal_child_group[n]=min_cost_group_verify\n",
    "        else:\n",
    "            solvable=True\n",
    "            change_heuristic(n,min_cost)\n",
    "            optimal_child_group[n]=min_cost_group\n",
    "        marked[min_cost_group]=1\n",
    "    return heuristic(n)    "
   ]
  },
  {
   "cell_type": "code",
   "execution_count": null,
   "id": "e666a60e",
   "metadata": {},
   "outputs": [],
   "source": [
    "def least_cost_group(and_nodes,or_nodes,marked):\n",
    "    node_wise_cost={}\n",
    "    for node_pair in and_nodes:\n",
    "        if not node_pair[0]+node_pair[1] in marked:\n",
    "            cost=0\n",
    "            cost=cost+heuristic(node_pair[0])+heuristic(node_pair[1])+2\n",
    "            node_wise_cost[node_pair[0]+node_pair[1]]=cost\n",
    "    for node in or_nodes:\n",
    "        if not node in marked:\n",
    "            cost=0\n",
    "            cost=cost+heuristic(node)+1\n",
    "            node_wise_cost[node]=cost\n",
    "    min_cost_group=None\n",
    "    min_cost=999999\n",
    "    for cost_key in node_wise_cost:\n",
    "        if node_wise_cost[cost_key]<min_cost:\n",
    "            min_cost=node_wise_cost[cost_key]\n",
    "            min_cost_group=cost_key\n",
    "    return [min_cost,min_cost_group]"
   ]
  },
  {
   "cell_type": "code",
   "execution_count": null,
   "id": "c752f7c5",
   "metadata": {},
   "outputs": [],
   "source": [
    "def heuristic(n):\n",
    "    return H_dist[n]"
   ]
  },
  {
   "cell_type": "code",
   "execution_count": null,
   "id": "1318a127",
   "metadata": {},
   "outputs": [],
   "source": [
    "def change_heuristic(n,cost):\n",
    "    H_dist[n]=cost\n",
    "    return"
   ]
  },
  {
   "cell_type": "code",
   "execution_count": null,
   "id": "e6c02e88",
   "metadata": {},
   "outputs": [],
   "source": [
    "H_dist = { \n",
    "    'A': -1,\n",
    "    'B': 4, \n",
    "    'C': 2, \n",
    "    'D': 3, \n",
    "    'E': 6,\n",
    "    'F': 8, \n",
    "    'G': 2,\n",
    "    'H': 0,\n",
    "    'I': 0, \n",
    "    'J': 0\n",
    "} "
   ]
  },
  {
   "cell_type": "code",
   "execution_count": null,
   "id": "4c5550f3",
   "metadata": {},
   "outputs": [],
   "source": [
    "allnodes = { \n",
    "      'A': {'AND': [('C', 'D')], 'OR': ['B']},\n",
    "      'B': {'OR': ['E', 'F']}, \n",
    "      'C': {'AND': [('H', 'I')], 'OR': ['G']}, \n",
    "      'D': {'OR': ['J']}\n",
    "} "
   ]
  },
  {
   "cell_type": "code",
   "execution_count": null,
   "id": "aa7a9788",
   "metadata": {},
   "outputs": [],
   "source": [
    "def print_path(node):\n",
    "    print(optimal_child_group[node], end=\"\") \n",
    "    node = optimal_child_group[node] \n",
    "    if len(node) > 1: \n",
    "          if node[0] in optimal_child_group: \n",
    "              print(\"->\", end=\"\") \n",
    "              print_path(node[0]) \n",
    "          if node[1] in optimal_child_group: \n",
    "              print(\"->\", end=\"\") \n",
    "              print_path(node[1]) \n",
    "    else: \n",
    "          if node in optimal_child_group: \n",
    "              print(\"->\", end=\"\") \n",
    "              print_path(node)"
   ]
  },
  {
   "cell_type": "code",
   "execution_count": null,
   "id": "a2ac57b3",
   "metadata": {},
   "outputs": [
    {
     "name": "stdout",
     "output_type": "stream",
     "text": [
      "Nodes Which Gives Optimal Cost Are\n",
      "CD->HI->J\n",
      "Optimal Cost Is : 5\n"
     ]
    }
   ],
   "source": [
    "optimal_child_group = {}   \n",
    "optimal_cost = aostar('A')\n",
    "\n",
    "print('Nodes Which Gives Optimal Cost Are') \n",
    "print_path('A') \n",
    "print('\\nOptimal Cost Is :', optimal_cost)"
   ]
  },
  {
   "cell_type": "code",
   "execution_count": null,
   "id": "eb0c53af",
   "metadata": {},
   "outputs": [],
   "source": []
  }
 ],
 "metadata": {
  "kernelspec": {
   "display_name": "Python 3 (ipykernel)",
   "language": "python",
   "name": "python3"
  },
  "language_info": {
   "codemirror_mode": {
    "name": "ipython",
    "version": 3
   },
   "file_extension": ".py",
   "mimetype": "text/x-python",
   "name": "python",
   "nbconvert_exporter": "python",
   "pygments_lexer": "ipython3",
   "version": "3.9.9"
  }
 },
 "nbformat": 4,
 "nbformat_minor": 5
}
