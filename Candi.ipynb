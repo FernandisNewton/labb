{
 "cells": [
  {
   "cell_type": "code",
   "execution_count": 19,
   "id": "ea18faca",
   "metadata": {},
   "outputs": [],
   "source": [
    "import pandas as pd\n",
    "data = pd.read_csv('EnjoySport.csv')\n",
    "concept = data.values[:,:-1]\n",
    "target = data.values[:,-1]"
   ]
  },
  {
   "cell_type": "code",
   "execution_count": 26,
   "id": "3432563d",
   "metadata": {},
   "outputs": [],
   "source": [
    "def learn(concept,target):\n",
    "    specific_h = concept[0].copy()\n",
    "    general_h = [['?' for i in range(len(specific_h))]for i in range(len(specific_h))]\n",
    "    for i , h in enumerate(concept):\n",
    "        if target[i] == \"yes\":\n",
    "            print(target[i])\n",
    "            for x in range(len(specific_h)):\n",
    "                if h[x] != specific_h[x]:\n",
    "                    specific_h[x] = '?'\n",
    "                    general_h[x][x]='?'\n",
    "        if target[i] == \"no\":\n",
    "            for x in range(len(specific_h)):\n",
    "                if h[x]!= specific_h[x]:\n",
    "                    general_h[x][x] = specific_h[x]\n",
    "                else:\n",
    "                    general_h[x][x]='?'\n",
    "    indices = [i for i, val in enumerate(general_h) if val == ['?' for i in range(len(specific_h))]]\n",
    "    for i in indices:\n",
    "        general_h.remove(['?','?','?','?','?','?'])\n",
    "    \n",
    "    return specific_h,general_h"
   ]
  },
  {
   "cell_type": "code",
   "execution_count": 27,
   "id": "84937c81",
   "metadata": {},
   "outputs": [
    {
     "name": "stdout",
     "output_type": "stream",
     "text": [
      "yes\n",
      "yes\n",
      "yes\n",
      "['sunny' 'warm' '?' 'strong' '?' '?'] [['sunny', '?', '?', '?', '?', '?'], ['?', 'warm', '?', '?', '?', '?']]\n"
     ]
    }
   ],
   "source": [
    "g,s = learn(concept,target)\n",
    "print(g,s)"
   ]
  },
  {
   "cell_type": "code",
   "execution_count": null,
   "id": "ae4e281f",
   "metadata": {},
   "outputs": [],
   "source": []
  }
 ],
 "metadata": {
  "kernelspec": {
   "display_name": "Python 3 (ipykernel)",
   "language": "python",
   "name": "python3"
  },
  "language_info": {
   "codemirror_mode": {
    "name": "ipython",
    "version": 3
   },
   "file_extension": ".py",
   "mimetype": "text/x-python",
   "name": "python",
   "nbconvert_exporter": "python",
   "pygments_lexer": "ipython3",
   "version": "3.8.9"
  }
 },
 "nbformat": 4,
 "nbformat_minor": 5
}
