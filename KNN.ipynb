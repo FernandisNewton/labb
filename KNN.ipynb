{
 "cells": [
  {
   "cell_type": "code",
   "execution_count": 1,
   "id": "7aa845b4",
   "metadata": {},
   "outputs": [],
   "source": [
    "from sklearn.datasets import load_iris\n",
    "from sklearn.neighbors import KNeighborsClassifier\n",
    "from sklearn.model_selection import train_test_split\n",
    "import numpy as np\n"
   ]
  },
  {
   "cell_type": "code",
   "execution_count": 2,
   "id": "0d18fe80",
   "metadata": {},
   "outputs": [],
   "source": [
    "dataset = load_iris()\n",
    "X_train,X_test,y_train,y_test = train_test_split(dataset['data'],dataset['target'],random_state=0)\n"
   ]
  },
  {
   "cell_type": "code",
   "execution_count": 3,
   "id": "b32a6d53",
   "metadata": {},
   "outputs": [
    {
     "data": {
      "text/plain": [
       "KNeighborsClassifier(n_neighbors=1)"
      ]
     },
     "execution_count": 3,
     "metadata": {},
     "output_type": "execute_result"
    }
   ],
   "source": [
    "clf = KNeighborsClassifier(n_neighbors=1)\n",
    "clf.fit(X_train,y_train)\n"
   ]
  },
  {
   "cell_type": "code",
   "execution_count": 7,
   "id": "c0e543ad",
   "metadata": {},
   "outputs": [
    {
     "name": "stdout",
     "output_type": "stream",
     "text": [
      "target;; 2 virginica predi;; [2] ['virginica']\n",
      "target;; 1 versicolor predi;; [1] ['versicolor']\n",
      "target;; 0 setosa predi;; [0] ['setosa']\n",
      "target;; 2 virginica predi;; [2] ['virginica']\n",
      "target;; 0 setosa predi;; [0] ['setosa']\n",
      "target;; 2 virginica predi;; [2] ['virginica']\n",
      "target;; 0 setosa predi;; [0] ['setosa']\n",
      "target;; 1 versicolor predi;; [1] ['versicolor']\n",
      "target;; 1 versicolor predi;; [1] ['versicolor']\n",
      "target;; 1 versicolor predi;; [1] ['versicolor']\n",
      "target;; 2 virginica predi;; [2] ['virginica']\n",
      "target;; 1 versicolor predi;; [1] ['versicolor']\n",
      "target;; 1 versicolor predi;; [1] ['versicolor']\n",
      "target;; 1 versicolor predi;; [1] ['versicolor']\n",
      "target;; 1 versicolor predi;; [1] ['versicolor']\n",
      "target;; 0 setosa predi;; [0] ['setosa']\n",
      "target;; 1 versicolor predi;; [1] ['versicolor']\n",
      "target;; 1 versicolor predi;; [1] ['versicolor']\n",
      "target;; 0 setosa predi;; [0] ['setosa']\n",
      "target;; 0 setosa predi;; [0] ['setosa']\n",
      "target;; 2 virginica predi;; [2] ['virginica']\n",
      "target;; 1 versicolor predi;; [1] ['versicolor']\n",
      "target;; 0 setosa predi;; [0] ['setosa']\n",
      "target;; 0 setosa predi;; [0] ['setosa']\n",
      "target;; 2 virginica predi;; [2] ['virginica']\n",
      "target;; 0 setosa predi;; [0] ['setosa']\n",
      "target;; 0 setosa predi;; [0] ['setosa']\n",
      "target;; 1 versicolor predi;; [1] ['versicolor']\n",
      "target;; 1 versicolor predi;; [1] ['versicolor']\n",
      "target;; 0 setosa predi;; [0] ['setosa']\n",
      "target;; 2 virginica predi;; [2] ['virginica']\n",
      "target;; 1 versicolor predi;; [1] ['versicolor']\n",
      "target;; 0 setosa predi;; [0] ['setosa']\n",
      "target;; 2 virginica predi;; [2] ['virginica']\n",
      "target;; 2 virginica predi;; [2] ['virginica']\n",
      "target;; 1 versicolor predi;; [1] ['versicolor']\n",
      "target;; 0 setosa predi;; [0] ['setosa']\n",
      "target;; 1 versicolor predi;; [2] ['virginica']\n",
      "0.9736842105263158\n"
     ]
    }
   ],
   "source": [
    "for i in range(len(X_test)):\n",
    "    x = X_test[i]\n",
    "    x_new = np.array([x])\n",
    "    prediction = clf.predict(x_new)\n",
    "    print('target;;',y_test[i],dataset[\"target_names\"][y_test[i]],'predi;;',prediction,dataset[\"target_names\"][prediction])\n",
    "\n",
    "print(clf.score(X_test,y_test))"
   ]
  },
  {
   "cell_type": "code",
   "execution_count": null,
   "id": "36492bad",
   "metadata": {},
   "outputs": [],
   "source": []
  }
 ],
 "metadata": {
  "kernelspec": {
   "display_name": "Python 3 (ipykernel)",
   "language": "python",
   "name": "python3"
  },
  "language_info": {
   "codemirror_mode": {
    "name": "ipython",
    "version": 3
   },
   "file_extension": ".py",
   "mimetype": "text/x-python",
   "name": "python",
   "nbconvert_exporter": "python",
   "pygments_lexer": "ipython3",
   "version": "3.8.9"
  }
 },
 "nbformat": 4,
 "nbformat_minor": 5
}
