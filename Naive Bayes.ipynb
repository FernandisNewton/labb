{
 "cells": [
  {
   "cell_type": "code",
   "execution_count": 2,
   "metadata": {},
   "outputs": [],
   "source": [
    "def probAttr(data, attr, val):\n",
    "    Total = data.shape[0]\n",
    "    cnt = len(data[data[attr] == val])\n",
    "    return cnt, cnt / Total"
   ]
  },
  {
   "cell_type": "code",
   "execution_count": 3,
   "metadata": {},
   "outputs": [],
   "source": [
    "def train(data, Attr, conceptVals, concept):\n",
    "    conceptProbs = {}\n",
    "    countConcept = {}\n",
    "    for cVal in conceptVals:\n",
    "        countConcept[cVal], conceptProbs[cVal] = probAttr(data, concept, cVal)\n",
    "    AttrConcept = {}\n",
    "    probability_list = {}\n",
    "    for att in Attr:\n",
    "        probability_list[att] = {}\n",
    "        AttrConcept[att] = {}\n",
    "        for val in Attr[att]:\n",
    "            AttrConcept[att][val] = {}\n",
    "            a, probability_list[att][val] = probAttr(data, att, val)\n",
    "            dataTemp = data[data[att] == val]\n",
    "            for cVal in conceptVals:\n",
    "                AttrConcept[att][val][cVal] = len(dataTemp[dataTemp[concept] ==cVal]) / countConcept[cVal]\n",
    "    print(f\"P(A) : {conceptProbs}\\n\")\n",
    "    print(f\"P(X/A) : {AttrConcept}\\n\")\n",
    "    print(f\"P(X) : {probability_list}\\n\")\n",
    "    return conceptProbs, AttrConcept, probability_list"
   ]
  },
  {
   "cell_type": "code",
   "execution_count": 4,
   "metadata": {},
   "outputs": [],
   "source": [
    "def test(examples, Attr, concept_list, conceptProbs, AttrConcept,probability_list):\n",
    "    misclassification_count = 0\n",
    "    Total = len(examples)\n",
    "    for ex in examples:\n",
    "        px = {}\n",
    "        for a in Attr:\n",
    "            for x in ex:\n",
    "                for c in concept_list:\n",
    "                    if x in AttrConcept[a]:\n",
    "                        if c not in px:\n",
    "                            px[c] = conceptProbs[c] * AttrConcept[a][x][c] /probability_list[a][x]\n",
    "                        else:\n",
    "                            px[c] = px[c] * AttrConcept[a][x][c] /probability_list[a][x]\n",
    "        classification = max(px, key=px.get)\n",
    "        print(f\"Classification : {classification} Expected : {ex[-1]}\")\n",
    "        if (classification != ex[-1]):\n",
    "            misclassification_count += 1\n",
    "    misclassification_rate = misclassification_count * 100 / Total\n",
    "    accuracy = 100 - misclassification_rate\n",
    "    print(f\"Misclassification Count={misclassification_count}\")\n",
    "    print(f\"Misclassification Rate={misclassification_rate}%\")\n",
    "    print(f\"Accuracy={accuracy}%\")\n"
   ]
  },
  {
   "cell_type": "code",
   "execution_count": 5,
   "metadata": {},
   "outputs": [
    {
     "name": "stdout",
     "output_type": "stream",
     "text": [
      "Outlook: {'Rainy', 'Overcast', 'Sunny'}\n",
      "Temperature: {'Hot', 'Cool', 'Mild'}\n",
      "Humidity: {'Normal', 'High'}\n",
      "Windy: {'Weak', 'Strong'}\n",
      "P(A) : {'Yes': 0.6428571428571429, 'No': 0.35714285714285715}\n",
      "\n",
      "P(X/A) : {'Outlook': {'Rainy': {'Yes': 0.3333333333333333, 'No': 0.4}, 'Overcast': {'Yes': 0.4444444444444444, 'No': 0.0}, 'Sunny': {'Yes': 0.2222222222222222, 'No': 0.6}}, 'Temperature': {'Hot': {'Yes': 0.2222222222222222, 'No': 0.4}, 'Cool': {'Yes': 0.3333333333333333, 'No': 0.2}, 'Mild': {'Yes': 0.4444444444444444, 'No': 0.4}}, 'Humidity': {'Normal': {'Yes': 0.6666666666666666, 'No': 0.2}, 'High': {'Yes': 0.3333333333333333, 'No': 0.8}}, 'Windy': {'Weak': {'Yes': 0.6666666666666666, 'No': 0.4}, 'Strong': {'Yes': 0.3333333333333333, 'No': 0.6}}}\n",
      "\n",
      "P(X) : {'Outlook': {'Rainy': 0.35714285714285715, 'Overcast': 0.2857142857142857, 'Sunny': 0.35714285714285715}, 'Temperature': {'Hot': 0.2857142857142857, 'Cool': 0.2857142857142857, 'Mild': 0.42857142857142855}, 'Humidity': {'Normal': 0.5, 'High': 0.5}, 'Windy': {'Weak': 0.5714285714285714, 'Strong': 0.42857142857142855}}\n",
      "\n",
      "Classification : No Expected : No\n",
      "Classification : No Expected : No\n",
      "Classification : Yes Expected : Yes\n",
      "Classification : Yes Expected : Yes\n",
      "Classification : Yes Expected : Yes\n",
      "Classification : Yes Expected : No\n",
      "Classification : Yes Expected : Yes\n",
      "Classification : No Expected : No\n",
      "Classification : Yes Expected : Yes\n",
      "Classification : Yes Expected : Yes\n",
      "Classification : Yes Expected : Yes\n",
      "Classification : Yes Expected : Yes\n",
      "Classification : Yes Expected : Yes\n",
      "Classification : No Expected : No\n",
      "Misclassification Count=1\n",
      "Misclassification Rate=7.142857142857143%\n",
      "Accuracy=92.85714285714286%\n"
     ]
    }
   ],
   "source": [
    "import pandas as pd\n",
    "df = pd.read_csv('PlayTennies.csv')\n",
    "concept = str(df.columns[-1])\n",
    "concept_list = set(df[concept])\n",
    "Attr = {}\n",
    "for a in df.columns[:-1]:\n",
    "    Attr[a] = set(df[a])\n",
    "    print(f\"{a}: {Attr[a]}\")\n",
    "conceptProbs, AttrConcept, probability_list = train(df, Attr, concept_list,concept)\n",
    "examples = pd.read_csv('PlayTennies.csv')\n",
    "test(examples.values, Attr, concept_list, conceptProbs, AttrConcept,probability_list)"
   ]
  },
  {
   "cell_type": "code",
   "execution_count": null,
   "metadata": {},
   "outputs": [],
   "source": []
  }
 ],
 "metadata": {
  "kernelspec": {
   "display_name": "Python 3 (ipykernel)",
   "language": "python",
   "name": "python3"
  },
  "language_info": {
   "codemirror_mode": {
    "name": "ipython",
    "version": 3
   },
   "file_extension": ".py",
   "mimetype": "text/x-python",
   "name": "python",
   "nbconvert_exporter": "python",
   "pygments_lexer": "ipython3",
   "version": "3.9.7"
  }
 },
 "nbformat": 4,
 "nbformat_minor": 4
}
